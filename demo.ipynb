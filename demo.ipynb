{
 "cells": [
  {
   "cell_type": "code",
   "execution_count": 2,
   "metadata": {},
   "outputs": [
    {
     "name": "stdout",
     "output_type": "stream",
     "text": [
      "Requirement already satisfied: fiftyone in /Users/kelly/miniconda3/lib/python3.11/site-packages (0.23.8)\n",
      "Requirement already satisfied: aiofiles in /Users/kelly/miniconda3/lib/python3.11/site-packages (from fiftyone) (23.2.1)\n",
      "Requirement already satisfied: argcomplete in /Users/kelly/miniconda3/lib/python3.11/site-packages (from fiftyone) (3.3.0)\n",
      "Requirement already satisfied: beautifulsoup4 in /Users/kelly/miniconda3/lib/python3.11/site-packages (from fiftyone) (4.12.3)\n",
      "Requirement already satisfied: boto3 in /Users/kelly/miniconda3/lib/python3.11/site-packages (from fiftyone) (1.34.89)\n",
      "Requirement already satisfied: cachetools in /Users/kelly/miniconda3/lib/python3.11/site-packages (from fiftyone) (5.3.3)\n",
      "Requirement already satisfied: dacite<1.8.0,>=1.6.0 in /Users/kelly/miniconda3/lib/python3.11/site-packages (from fiftyone) (1.7.0)\n",
      "Requirement already satisfied: Deprecated in /Users/kelly/miniconda3/lib/python3.11/site-packages (from fiftyone) (1.2.14)\n",
      "Requirement already satisfied: ftfy in /Users/kelly/miniconda3/lib/python3.11/site-packages (from fiftyone) (6.2.0)\n",
      "Requirement already satisfied: humanize in /Users/kelly/miniconda3/lib/python3.11/site-packages (from fiftyone) (4.9.0)\n",
      "Requirement already satisfied: hypercorn>=0.13.2 in /Users/kelly/miniconda3/lib/python3.11/site-packages (from fiftyone) (0.16.0)\n",
      "Requirement already satisfied: Jinja2>=3 in /Users/kelly/miniconda3/lib/python3.11/site-packages (from fiftyone) (3.1.3)\n",
      "Requirement already satisfied: kaleido!=0.2.1.post1 in /Users/kelly/miniconda3/lib/python3.11/site-packages (from fiftyone) (0.2.1)\n",
      "Requirement already satisfied: matplotlib in /Users/kelly/miniconda3/lib/python3.11/site-packages (from fiftyone) (3.8.4)\n",
      "Requirement already satisfied: mongoengine==0.24.2 in /Users/kelly/miniconda3/lib/python3.11/site-packages (from fiftyone) (0.24.2)\n",
      "Requirement already satisfied: motor>=2.5 in /Users/kelly/miniconda3/lib/python3.11/site-packages (from fiftyone) (3.4.0)\n",
      "Requirement already satisfied: numpy in /Users/kelly/miniconda3/lib/python3.11/site-packages (from fiftyone) (1.26.4)\n",
      "Requirement already satisfied: packaging in /Users/kelly/miniconda3/lib/python3.11/site-packages (from fiftyone) (23.0)\n",
      "Requirement already satisfied: pandas in /Users/kelly/miniconda3/lib/python3.11/site-packages (from fiftyone) (2.2.2)\n",
      "Requirement already satisfied: Pillow>=6.2 in /Users/kelly/miniconda3/lib/python3.11/site-packages (from fiftyone) (10.3.0)\n",
      "Requirement already satisfied: plotly>=4.14 in /Users/kelly/miniconda3/lib/python3.11/site-packages (from fiftyone) (5.21.0)\n",
      "Requirement already satisfied: pprintpp in /Users/kelly/miniconda3/lib/python3.11/site-packages (from fiftyone) (0.4.0)\n",
      "Requirement already satisfied: psutil in /Users/kelly/miniconda3/lib/python3.11/site-packages (from fiftyone) (5.9.0)\n",
      "Requirement already satisfied: pymongo>=3.12 in /Users/kelly/miniconda3/lib/python3.11/site-packages (from fiftyone) (4.6.3)\n",
      "Requirement already satisfied: pytz in /Users/kelly/miniconda3/lib/python3.11/site-packages (from fiftyone) (2024.1)\n",
      "Requirement already satisfied: PyYAML in /Users/kelly/miniconda3/lib/python3.11/site-packages (from fiftyone) (6.0.1)\n",
      "Requirement already satisfied: regex in /Users/kelly/miniconda3/lib/python3.11/site-packages (from fiftyone) (2024.4.16)\n",
      "Requirement already satisfied: retrying in /Users/kelly/miniconda3/lib/python3.11/site-packages (from fiftyone) (1.3.4)\n",
      "Requirement already satisfied: scikit-learn in /Users/kelly/miniconda3/lib/python3.11/site-packages (from fiftyone) (1.4.2)\n",
      "Requirement already satisfied: scikit-image in /Users/kelly/miniconda3/lib/python3.11/site-packages (from fiftyone) (0.23.2)\n",
      "Requirement already satisfied: scipy in /Users/kelly/miniconda3/lib/python3.11/site-packages (from fiftyone) (1.13.0)\n",
      "Requirement already satisfied: setuptools in /Users/kelly/miniconda3/lib/python3.11/site-packages (from fiftyone) (67.8.0)\n",
      "Requirement already satisfied: sseclient-py<2,>=1.7.2 in /Users/kelly/miniconda3/lib/python3.11/site-packages (from fiftyone) (1.8.0)\n",
      "Requirement already satisfied: sse-starlette<1,>=0.10.3 in /Users/kelly/miniconda3/lib/python3.11/site-packages (from fiftyone) (0.10.3)\n",
      "Requirement already satisfied: starlette>=0.24.0 in /Users/kelly/miniconda3/lib/python3.11/site-packages (from fiftyone) (0.37.2)\n",
      "Requirement already satisfied: strawberry-graphql==0.138.1 in /Users/kelly/miniconda3/lib/python3.11/site-packages (from fiftyone) (0.138.1)\n",
      "Requirement already satisfied: tabulate in /Users/kelly/miniconda3/lib/python3.11/site-packages (from fiftyone) (0.9.0)\n",
      "Requirement already satisfied: xmltodict in /Users/kelly/miniconda3/lib/python3.11/site-packages (from fiftyone) (0.13.0)\n",
      "Requirement already satisfied: universal-analytics-python3<2,>=1.0.1 in /Users/kelly/miniconda3/lib/python3.11/site-packages (from fiftyone) (1.1.1)\n",
      "Requirement already satisfied: fiftyone-brain<0.17,>=0.16.1 in /Users/kelly/miniconda3/lib/python3.11/site-packages (from fiftyone) (0.16.1)\n",
      "Requirement already satisfied: fiftyone-db<2.0,>=0.4 in /Users/kelly/miniconda3/lib/python3.11/site-packages (from fiftyone) (1.1.2)\n",
      "Requirement already satisfied: voxel51-eta<0.13,>=0.12.6 in /Users/kelly/miniconda3/lib/python3.11/site-packages (from fiftyone) (0.12.6)\n",
      "Requirement already satisfied: opencv-python-headless in /Users/kelly/miniconda3/lib/python3.11/site-packages (from fiftyone) (4.9.0.80)\n",
      "Requirement already satisfied: graphql-core<3.3.0,>=3.2.0 in /Users/kelly/miniconda3/lib/python3.11/site-packages (from strawberry-graphql==0.138.1->fiftyone) (3.2.3)\n",
      "Requirement already satisfied: python-dateutil<3.0.0,>=2.7.0 in /Users/kelly/miniconda3/lib/python3.11/site-packages (from strawberry-graphql==0.138.1->fiftyone) (2.9.0)\n",
      "Requirement already satisfied: typing_extensions<5.0.0,>=3.7.4 in /Users/kelly/miniconda3/lib/python3.11/site-packages (from strawberry-graphql==0.138.1->fiftyone) (4.11.0)\n",
      "Requirement already satisfied: h11 in /Users/kelly/miniconda3/lib/python3.11/site-packages (from hypercorn>=0.13.2->fiftyone) (0.14.0)\n",
      "Requirement already satisfied: h2>=3.1.0 in /Users/kelly/miniconda3/lib/python3.11/site-packages (from hypercorn>=0.13.2->fiftyone) (4.1.0)\n",
      "Requirement already satisfied: priority in /Users/kelly/miniconda3/lib/python3.11/site-packages (from hypercorn>=0.13.2->fiftyone) (2.0.0)\n",
      "Requirement already satisfied: wsproto>=0.14.0 in /Users/kelly/miniconda3/lib/python3.11/site-packages (from hypercorn>=0.13.2->fiftyone) (1.2.0)\n",
      "Requirement already satisfied: MarkupSafe>=2.0 in /Users/kelly/miniconda3/lib/python3.11/site-packages (from Jinja2>=3->fiftyone) (2.1.5)\n",
      "Requirement already satisfied: tenacity>=6.2.0 in /Users/kelly/miniconda3/lib/python3.11/site-packages (from plotly>=4.14->fiftyone) (8.2.3)\n",
      "Requirement already satisfied: dnspython<3.0.0,>=1.16.0 in /Users/kelly/miniconda3/lib/python3.11/site-packages (from pymongo>=3.12->fiftyone) (2.6.1)\n",
      "Requirement already satisfied: anyio<5,>=3.4.0 in /Users/kelly/miniconda3/lib/python3.11/site-packages (from starlette>=0.24.0->fiftyone) (4.3.0)\n",
      "Requirement already satisfied: httpx>=0.10.0 in /Users/kelly/miniconda3/lib/python3.11/site-packages (from universal-analytics-python3<2,>=1.0.1->fiftyone) (0.27.0)\n",
      "Requirement already satisfied: dill in /Users/kelly/miniconda3/lib/python3.11/site-packages (from voxel51-eta<0.13,>=0.12.6->fiftyone) (0.3.8)\n",
      "Requirement already satisfied: future in /Users/kelly/miniconda3/lib/python3.11/site-packages (from voxel51-eta<0.13,>=0.12.6->fiftyone) (1.0.0)\n",
      "Requirement already satisfied: glob2 in /Users/kelly/miniconda3/lib/python3.11/site-packages (from voxel51-eta<0.13,>=0.12.6->fiftyone) (0.7)\n",
      "Requirement already satisfied: jsonlines in /Users/kelly/miniconda3/lib/python3.11/site-packages (from voxel51-eta<0.13,>=0.12.6->fiftyone) (4.0.0)\n",
      "Requirement already satisfied: py7zr in /Users/kelly/miniconda3/lib/python3.11/site-packages (from voxel51-eta<0.13,>=0.12.6->fiftyone) (0.21.0)\n",
      "Requirement already satisfied: rarfile in /Users/kelly/miniconda3/lib/python3.11/site-packages (from voxel51-eta<0.13,>=0.12.6->fiftyone) (4.2)\n",
      "Requirement already satisfied: requests in /Users/kelly/miniconda3/lib/python3.11/site-packages (from voxel51-eta<0.13,>=0.12.6->fiftyone) (2.29.0)\n",
      "Requirement already satisfied: six in /Users/kelly/miniconda3/lib/python3.11/site-packages (from voxel51-eta<0.13,>=0.12.6->fiftyone) (1.16.0)\n",
      "Requirement already satisfied: sortedcontainers in /Users/kelly/miniconda3/lib/python3.11/site-packages (from voxel51-eta<0.13,>=0.12.6->fiftyone) (2.4.0)\n",
      "Requirement already satisfied: tzlocal in /Users/kelly/miniconda3/lib/python3.11/site-packages (from voxel51-eta<0.13,>=0.12.6->fiftyone) (5.2)\n",
      "Requirement already satisfied: urllib3 in /Users/kelly/miniconda3/lib/python3.11/site-packages (from voxel51-eta<0.13,>=0.12.6->fiftyone) (1.26.16)\n",
      "Requirement already satisfied: soupsieve>1.2 in /Users/kelly/miniconda3/lib/python3.11/site-packages (from beautifulsoup4->fiftyone) (2.5)\n",
      "Requirement already satisfied: botocore<1.35.0,>=1.34.89 in /Users/kelly/miniconda3/lib/python3.11/site-packages (from boto3->fiftyone) (1.34.89)\n",
      "Requirement already satisfied: jmespath<2.0.0,>=0.7.1 in /Users/kelly/miniconda3/lib/python3.11/site-packages (from boto3->fiftyone) (1.0.1)\n",
      "Requirement already satisfied: s3transfer<0.11.0,>=0.10.0 in /Users/kelly/miniconda3/lib/python3.11/site-packages (from boto3->fiftyone) (0.10.1)\n",
      "Requirement already satisfied: wrapt<2,>=1.10 in /Users/kelly/miniconda3/lib/python3.11/site-packages (from Deprecated->fiftyone) (1.16.0)\n",
      "Requirement already satisfied: wcwidth<0.3.0,>=0.2.12 in /Users/kelly/miniconda3/lib/python3.11/site-packages (from ftfy->fiftyone) (0.2.13)\n",
      "Requirement already satisfied: contourpy>=1.0.1 in /Users/kelly/miniconda3/lib/python3.11/site-packages (from matplotlib->fiftyone) (1.2.1)\n",
      "Requirement already satisfied: cycler>=0.10 in /Users/kelly/miniconda3/lib/python3.11/site-packages (from matplotlib->fiftyone) (0.12.1)\n",
      "Requirement already satisfied: fonttools>=4.22.0 in /Users/kelly/miniconda3/lib/python3.11/site-packages (from matplotlib->fiftyone) (4.51.0)\n",
      "Requirement already satisfied: kiwisolver>=1.3.1 in /Users/kelly/miniconda3/lib/python3.11/site-packages (from matplotlib->fiftyone) (1.4.5)\n",
      "Requirement already satisfied: pyparsing>=2.3.1 in /Users/kelly/miniconda3/lib/python3.11/site-packages (from matplotlib->fiftyone) (3.1.2)\n",
      "Requirement already satisfied: tzdata>=2022.7 in /Users/kelly/miniconda3/lib/python3.11/site-packages (from pandas->fiftyone) (2024.1)\n",
      "Requirement already satisfied: networkx>=2.8 in /Users/kelly/miniconda3/lib/python3.11/site-packages (from scikit-image->fiftyone) (3.3)\n",
      "Requirement already satisfied: imageio>=2.33 in /Users/kelly/miniconda3/lib/python3.11/site-packages (from scikit-image->fiftyone) (2.34.1)\n",
      "Requirement already satisfied: tifffile>=2022.8.12 in /Users/kelly/miniconda3/lib/python3.11/site-packages (from scikit-image->fiftyone) (2024.4.18)\n",
      "Requirement already satisfied: lazy-loader>=0.4 in /Users/kelly/miniconda3/lib/python3.11/site-packages (from scikit-image->fiftyone) (0.4)\n",
      "Requirement already satisfied: joblib>=1.2.0 in /Users/kelly/miniconda3/lib/python3.11/site-packages (from scikit-learn->fiftyone) (1.4.0)\n",
      "Requirement already satisfied: threadpoolctl>=2.0.0 in /Users/kelly/miniconda3/lib/python3.11/site-packages (from scikit-learn->fiftyone) (3.4.0)\n",
      "Requirement already satisfied: idna>=2.8 in /Users/kelly/miniconda3/lib/python3.11/site-packages (from anyio<5,>=3.4.0->starlette>=0.24.0->fiftyone) (3.4)\n",
      "Requirement already satisfied: sniffio>=1.1 in /Users/kelly/miniconda3/lib/python3.11/site-packages (from anyio<5,>=3.4.0->starlette>=0.24.0->fiftyone) (1.3.1)\n",
      "Requirement already satisfied: hyperframe<7,>=6.0 in /Users/kelly/miniconda3/lib/python3.11/site-packages (from h2>=3.1.0->hypercorn>=0.13.2->fiftyone) (6.0.1)\n",
      "Requirement already satisfied: hpack<5,>=4.0 in /Users/kelly/miniconda3/lib/python3.11/site-packages (from h2>=3.1.0->hypercorn>=0.13.2->fiftyone) (4.0.0)\n",
      "Requirement already satisfied: certifi in /Users/kelly/miniconda3/lib/python3.11/site-packages (from httpx>=0.10.0->universal-analytics-python3<2,>=1.0.1->fiftyone) (2024.2.2)\n",
      "Requirement already satisfied: httpcore==1.* in /Users/kelly/miniconda3/lib/python3.11/site-packages (from httpx>=0.10.0->universal-analytics-python3<2,>=1.0.1->fiftyone) (1.0.5)\n",
      "Requirement already satisfied: attrs>=19.2.0 in /Users/kelly/miniconda3/lib/python3.11/site-packages (from jsonlines->voxel51-eta<0.13,>=0.12.6->fiftyone) (23.2.0)\n",
      "Requirement already satisfied: texttable in /Users/kelly/miniconda3/lib/python3.11/site-packages (from py7zr->voxel51-eta<0.13,>=0.12.6->fiftyone) (1.7.0)\n",
      "Requirement already satisfied: pycryptodomex>=3.16.0 in /Users/kelly/miniconda3/lib/python3.11/site-packages (from py7zr->voxel51-eta<0.13,>=0.12.6->fiftyone) (3.20.0)\n",
      "Requirement already satisfied: pyzstd>=0.15.9 in /Users/kelly/miniconda3/lib/python3.11/site-packages (from py7zr->voxel51-eta<0.13,>=0.12.6->fiftyone) (0.15.10)\n",
      "Requirement already satisfied: pyppmd<1.2.0,>=1.1.0 in /Users/kelly/miniconda3/lib/python3.11/site-packages (from py7zr->voxel51-eta<0.13,>=0.12.6->fiftyone) (1.1.0)\n",
      "Requirement already satisfied: pybcj<1.1.0,>=1.0.0 in /Users/kelly/miniconda3/lib/python3.11/site-packages (from py7zr->voxel51-eta<0.13,>=0.12.6->fiftyone) (1.0.2)\n",
      "Requirement already satisfied: multivolumefile>=0.2.3 in /Users/kelly/miniconda3/lib/python3.11/site-packages (from py7zr->voxel51-eta<0.13,>=0.12.6->fiftyone) (0.2.3)\n",
      "Requirement already satisfied: inflate64<1.1.0,>=1.0.0 in /Users/kelly/miniconda3/lib/python3.11/site-packages (from py7zr->voxel51-eta<0.13,>=0.12.6->fiftyone) (1.0.0)\n",
      "Requirement already satisfied: brotli>=1.1.0 in /Users/kelly/miniconda3/lib/python3.11/site-packages (from py7zr->voxel51-eta<0.13,>=0.12.6->fiftyone) (1.1.0)\n",
      "Requirement already satisfied: charset-normalizer<4,>=2 in /Users/kelly/miniconda3/lib/python3.11/site-packages (from requests->voxel51-eta<0.13,>=0.12.6->fiftyone) (2.0.4)\n",
      "Note: you may need to restart the kernel to use updated packages.\n"
     ]
    }
   ],
   "source": [
    "%pip install fiftyone"
   ]
  },
  {
   "cell_type": "code",
   "execution_count": 3,
   "metadata": {},
   "outputs": [],
   "source": [
    "import fiftyone as fo\n",
    "# dataset zoo with common datasets\n",
    "import fiftyone.zoo as foz"
   ]
  },
  {
   "cell_type": "code",
   "execution_count": 4,
   "metadata": {},
   "outputs": [
    {
     "name": "stdout",
     "output_type": "stream",
     "text": [
      "Dataset already downloaded\n",
      "Loading existing dataset 'quickstart'. To reload from disk, either delete the existing dataset or provide a custom `dataset_name` to use\n",
      "dataset contents Name:        quickstart\n",
      "Media type:  image\n",
      "Num samples: 200\n",
      "Persistent:  False\n",
      "Tags:        []\n",
      "Sample fields:\n",
      "    id:           fiftyone.core.fields.ObjectIdField\n",
      "    filepath:     fiftyone.core.fields.StringField\n",
      "    tags:         fiftyone.core.fields.ListField(fiftyone.core.fields.StringField)\n",
      "    metadata:     fiftyone.core.fields.EmbeddedDocumentField(fiftyone.core.metadata.ImageMetadata)\n",
      "    ground_truth: fiftyone.core.fields.EmbeddedDocumentField(fiftyone.core.labels.Detections)\n",
      "    uniqueness:   fiftyone.core.fields.FloatField\n",
      "    predictions:  fiftyone.core.fields.EmbeddedDocumentField(fiftyone.core.labels.Detections)\n"
     ]
    }
   ],
   "source": [
    "dataset = foz.load_zoo_dataset(\"quickstart\")\n",
    "print(\"dataset contents\", dataset)"
   ]
  },
  {
   "cell_type": "code",
   "execution_count": 5,
   "metadata": {},
   "outputs": [
    {
     "data": {
      "text/html": [
       "\n",
       "        <iframe\n",
       "            width=\"100%\"\n",
       "            height=\"800\"\n",
       "            src=\"http://localhost:5151/?notebook=True&subscription=ebafeb42-54a3-4e14-bd95-7166ed6500bc\"\n",
       "            frameborder=\"0\"\n",
       "            allowfullscreen\n",
       "            \n",
       "        ></iframe>\n",
       "        "
      ],
      "text/plain": [
       "<IPython.lib.display.IFrame at 0x290051f50>"
      ]
     },
     "metadata": {},
     "output_type": "display_data"
    }
   ],
   "source": [
    "# Launch app\n",
    "session = fo.launch_app(dataset, port=5151)"
   ]
  },
  {
   "cell_type": "code",
   "execution_count": 6,
   "metadata": {},
   "outputs": [
    {
     "data": {
      "text/plain": [
       "Dataset:     quickstart\n",
       "Media type:  image\n",
       "Num samples: 50\n",
       "Sample fields:\n",
       "    id:           fiftyone.core.fields.ObjectIdField\n",
       "    filepath:     fiftyone.core.fields.StringField\n",
       "    tags:         fiftyone.core.fields.ListField(fiftyone.core.fields.StringField)\n",
       "    metadata:     fiftyone.core.fields.EmbeddedDocumentField(fiftyone.core.metadata.ImageMetadata)\n",
       "    ground_truth: fiftyone.core.fields.EmbeddedDocumentField(fiftyone.core.labels.Detections)\n",
       "    uniqueness:   fiftyone.core.fields.FloatField\n",
       "    predictions:  fiftyone.core.fields.EmbeddedDocumentField(fiftyone.core.labels.Detections)\n",
       "View stages:\n",
       "    1. Limit(limit=50)"
      ]
     },
     "execution_count": 6,
     "metadata": {},
     "output_type": "execute_result"
    }
   ],
   "source": [
    "session.view"
   ]
  },
  {
   "cell_type": "code",
   "execution_count": 24,
   "metadata": {},
   "outputs": [
    {
     "data": {
      "text/plain": [
       "<bound method Session.select_samples of Dataset:          quickstart\n",
       "Media type:       image\n",
       "Num samples:      50\n",
       "Selected samples: 0\n",
       "Selected labels:  0\n",
       "Session URL:      http://localhost:5151/\n",
       "View stages:\n",
       "    1. Limit(limit=50)>"
      ]
     },
     "execution_count": 24,
     "metadata": {},
     "output_type": "execute_result"
    }
   ],
   "source": [
    "session.select_samples"
   ]
  },
  {
   "cell_type": "code",
   "execution_count": 26,
   "metadata": {},
   "outputs": [
    {
     "name": "stdout",
     "output_type": "stream",
     "text": [
      "Dataset:     quickstart\n",
      "Media type:  image\n",
      "Num samples: 0\n",
      "Sample fields:\n",
      "    id:           fiftyone.core.fields.ObjectIdField\n",
      "    filepath:     fiftyone.core.fields.StringField\n",
      "    tags:         fiftyone.core.fields.ListField(fiftyone.core.fields.StringField)\n",
      "    metadata:     fiftyone.core.fields.EmbeddedDocumentField(fiftyone.core.metadata.ImageMetadata)\n",
      "    ground_truth: fiftyone.core.fields.EmbeddedDocumentField(fiftyone.core.labels.Detections)\n",
      "    uniqueness:   fiftyone.core.fields.FloatField\n",
      "    predictions:  fiftyone.core.fields.EmbeddedDocumentField(fiftyone.core.labels.Detections)\n",
      "View stages:\n",
      "    1. MatchTags(tags=['needs-work'], bool=True, all=False)\n"
     ]
    }
   ],
   "source": [
    "view = dataset.match_tags(\"needs-work\")\n",
    "print(view)"
   ]
  },
  {
   "cell_type": "code",
   "execution_count": 27,
   "metadata": {},
   "outputs": [],
   "source": [
    "dataset.untag_samples(\"needs-work\")"
   ]
  }
 ],
 "metadata": {
  "kernelspec": {
   "display_name": "myenv",
   "language": "python",
   "name": "python3"
  },
  "language_info": {
   "codemirror_mode": {
    "name": "ipython",
    "version": 3
   },
   "file_extension": ".py",
   "mimetype": "text/x-python",
   "name": "python",
   "nbconvert_exporter": "python",
   "pygments_lexer": "ipython3",
   "version": "3.11.4"
  }
 },
 "nbformat": 4,
 "nbformat_minor": 2
}
